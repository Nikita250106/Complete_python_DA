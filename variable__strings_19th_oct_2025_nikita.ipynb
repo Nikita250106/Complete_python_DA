{
  "cells": [
    {
      "cell_type": "markdown",
      "metadata": {
        "id": "K-rMuk2sU7Oc"
      },
      "source": [
        "Q1 ANS... A variable is a nameed storage location which is used to store data.\n",
        "example is given below:-"
      ]
    },
    {
      "cell_type": "code",
      "execution_count": null,
      "metadata": {
        "colab": {
          "base_uri": "https://localhost:8080/"
        },
        "id": "TvHWxgzQUMBi",
        "outputId": "d9f08ccb-2180-4111-d7ea-f87707572b9d"
      },
      "outputs": [
        {
          "name": "stdout",
          "output_type": "stream",
          "text": [
            "26\n"
          ]
        }
      ],
      "source": [
        "age=26 #age is a variable which stores the age\n",
        "print(age)"
      ]
    },
    {
      "cell_type": "markdown",
      "metadata": {
        "id": "r_U9yS21Vl1n"
      },
      "source": [
        "Q2 ANS:-"
      ]
    },
    {
      "cell_type": "code",
      "execution_count": null,
      "metadata": {
        "colab": {
          "base_uri": "https://localhost:8080/"
        },
        "id": "Q2Z5YzeVVlWY",
        "outputId": "e3e2dc79-1542-4dbc-e11d-451ae8bec57a"
      },
      "outputs": [
        {
          "name": "stdout",
          "output_type": "stream",
          "text": [
            "Type of x =  <class 'int'>\n",
            "Type of y =  <class 'float'>\n",
            "Type of z =  <class 'str'>\n"
          ]
        }
      ],
      "source": [
        "x=45\n",
        "y=44.3\n",
        "z=\"ABC\"\n",
        "print(\"Type of x = \",type(x))\n",
        "print(\"Type of y = \",type(y))\n",
        "print(\"Type of z = \",type(z))"
      ]
    },
    {
      "cell_type": "markdown",
      "metadata": {
        "id": "NJ8Mf6FOWJgo"
      },
      "source": [
        "Q3 ANS:-"
      ]
    },
    {
      "cell_type": "code",
      "execution_count": null,
      "metadata": {
        "colab": {
          "base_uri": "https://localhost:8080/"
        },
        "id": "O-BvolslWJ9-",
        "outputId": "e76ebcba-1d74-4118-ff0b-2f0261d57f24"
      },
      "outputs": [
        {
          "name": "stdout",
          "output_type": "stream",
          "text": [
            "After swap value of a =  5\n",
            "After swap value of b =  4\n"
          ]
        }
      ],
      "source": [
        "a=4\n",
        "b=5\n",
        "a,b=b,a\n",
        "print(\"After swap value of a = \",a)\n",
        "print(\"After swap value of b = \",b)"
      ]
    },
    {
      "cell_type": "markdown",
      "metadata": {
        "id": "ufGQTqQkXEhC"
      },
      "source": [
        "Q4 ANS...."
      ]
    },
    {
      "cell_type": "code",
      "execution_count": null,
      "metadata": {
        "colab": {
          "base_uri": "https://localhost:8080/"
        },
        "id": "87heSexsXExq",
        "outputId": "ed5fc491-efe6-40c2-9f1e-9fa753247ee5"
      },
      "outputs": [
        {
          "name": "stdout",
          "output_type": "stream",
          "text": [
            "value of a =  67\n",
            "value of b =  67\n",
            "value of c =  67\n"
          ]
        }
      ],
      "source": [
        "a=b=c=67\n",
        "print(\"value of a = \",a)\n",
        "print(\"value of b = \",b)\n",
        "print(\"value of c = \",c)"
      ]
    },
    {
      "cell_type": "markdown",
      "metadata": {
        "id": "qVHi7sUhXZZ5"
      },
      "source": [
        "Q5 ANS...."
      ]
    },
    {
      "cell_type": "code",
      "execution_count": null,
      "metadata": {
        "colab": {
          "base_uri": "https://localhost:8080/"
        },
        "id": "stxsQSV3XZqU",
        "outputId": "787feb9d-5c65-4992-eea4-ebe85171fa36"
      },
      "outputs": [
        {
          "name": "stdout",
          "output_type": "stream",
          "text": [
            "value of a =  2\n",
            "value of b =  3\n",
            "value of c =  4\n"
          ]
        }
      ],
      "source": [
        "a,b,c=2,3,4\n",
        "print(\"value of a = \",a)\n",
        "print(\"value of b = \",b)\n",
        "print(\"value of c = \",c)"
      ]
    },
    {
      "cell_type": "markdown",
      "metadata": {
        "id": "e0OxRNRnXndF"
      },
      "source": [
        "Q6 ANS..... \"=\" is used to store values whereas \"==\"is used to compare values."
      ]
    },
    {
      "cell_type": "code",
      "execution_count": null,
      "metadata": {
        "colab": {
          "base_uri": "https://localhost:8080/"
        },
        "id": "HgUhCGTwXnxb",
        "outputId": "4c1111bd-7313-4b74-d4a2-62d99a399772"
      },
      "outputs": [
        {
          "name": "stdout",
          "output_type": "stream",
          "text": [
            "value of a =  34\n",
            "a is equal to b\n"
          ]
        }
      ],
      "source": [
        "a=34 # here\"=\"is used to store value in variable.\n",
        "print(\"value of a = \",a)\n",
        "b=34\n",
        "if (a==b):                            # \"==\" is used to compare a and b\n",
        " print(\"a is equal to b\")"
      ]
    },
    {
      "cell_type": "markdown",
      "metadata": {
        "id": "TYnDIyuW2WPj"
      },
      "source": [
        "Q7 ANS...."
      ]
    },
    {
      "cell_type": "code",
      "execution_count": null,
      "metadata": {
        "colab": {
          "base_uri": "https://localhost:8080/"
        },
        "id": "NTWTsu672Whh",
        "outputId": "aa70275e-3f76-4969-9ce5-cfc82cc42eaf"
      },
      "outputs": [
        {
          "name": "stdout",
          "output_type": "stream",
          "text": [
            "Enter the value of length of rectangle = 5\n",
            "Enter the value of breadth of rectangle = 6\n",
            "Area of rectangle =  30\n"
          ]
        }
      ],
      "source": [
        "length=int(input(\"Enter the value of length of rectangle = \"))\n",
        "breadth=int(input(\"Enter the value of breadth of rectangle = \"))\n",
        "print(\"Area of rectangle = \",length*breadth)"
      ]
    },
    {
      "cell_type": "markdown",
      "metadata": {
        "id": "4PPARi5425Mr"
      },
      "source": [
        "Q8 ANS......"
      ]
    },
    {
      "cell_type": "code",
      "execution_count": null,
      "metadata": {
        "colab": {
          "base_uri": "https://localhost:8080/"
        },
        "id": "QAH0Ntq825iA",
        "outputId": "8a85806f-ed55-4794-c13b-904dc7537674"
      },
      "outputs": [
        {
          "name": "stdout",
          "output_type": "stream",
          "text": [
            "enter the 1st number = 4.5\n",
            "enter the 2nd number = 6.8\n",
            "enter the 3rd number = 9.8\n",
            "Average of 3 number is =  7.033333333333334\n"
          ]
        }
      ],
      "source": [
        "a=float(input(\"enter the 1st number = \"))\n",
        "b=float(input(\"enter the 2nd number = \"))\n",
        "c=float(input(\"enter the 3rd number = \"))\n",
        "d=(a+b+c)/3\n",
        "print(\"Average of 3 number is = \",d)"
      ]
    },
    {
      "cell_type": "markdown",
      "metadata": {
        "id": "iiR6u9A66ifj"
      },
      "source": [
        "Q9 ANS......."
      ]
    },
    {
      "cell_type": "code",
      "execution_count": null,
      "metadata": {
        "colab": {
          "base_uri": "https://localhost:8080/"
        },
        "id": "osNZfhyG6ixe",
        "outputId": "299db9a6-5bd5-44fa-8a9b-b853ab493ef4"
      },
      "outputs": [
        {
          "name": "stdout",
          "output_type": "stream",
          "text": [
            "addition of a and b =  15\n",
            "subtraction of a and b =  5\n",
            "multiplication of a and b =  50\n",
            "division of a and b =  2.0\n",
            "modulus of a and b =  0\n",
            "floor division of a and b =  2\n"
          ]
        }
      ],
      "source": [
        "a=10\n",
        "b=5\n",
        "print(\"addition of a and b = \",a+b)\n",
        "print(\"subtraction of a and b = \",a-b)\n",
        "print(\"multiplication of a and b = \",a*b)\n",
        "print(\"division of a and b = \",a/b)\n",
        "print(\"modulus of a and b = \",a%b)\n",
        "print(\"floor division of a and b = \",a//b)"
      ]
    },
    {
      "cell_type": "markdown",
      "metadata": {
        "id": "OHMS-AJR7q_2"
      },
      "source": [
        "Q10 ANS.... constants are those values which do not change in the execution of program. The consants are assigned with the help of uppercase letters."
      ]
    },
    {
      "cell_type": "code",
      "execution_count": null,
      "metadata": {
        "colab": {
          "base_uri": "https://localhost:8080/"
        },
        "id": "65PsUOs17rSd",
        "outputId": "a2c1926f-21dd-42a9-a37a-6315f2525e70"
      },
      "outputs": [
        {
          "name": "stdout",
          "output_type": "stream",
          "text": [
            "area of rectangle =  2000\n",
            "area of rectangle =  800\n"
          ]
        }
      ],
      "source": [
        "LENGTH=40\n",
        "breadth=50\n",
        "print(\"area of rectangle = \",LENGTH*breadth)\n",
        "breadth=20\n",
        "length=10\n",
        "print(\"area of rectangle = \",LENGTH*breadth) # value of breadth changes but value of length remais unchanged"
      ]
    },
    {
      "cell_type": "markdown",
      "metadata": {
        "id": "M-2zsv5i-7dS"
      },
      "source": [
        "Q11 ANS... 1. Variable name cant start with a number.\n",
        "2. Variable name can include underscores.\n",
        "3. Variables name are case sensitive.\n",
        "4. variable names cant be reserve words."
      ]
    },
    {
      "cell_type": "code",
      "execution_count": null,
      "metadata": {
        "colab": {
          "base_uri": "https://localhost:8080/",
          "height": 106
        },
        "id": "VOYBWIpu-7sI",
        "outputId": "a09a77ba-0b8f-4dc4-c024-9e57c0c6b007"
      },
      "outputs": [
        {
          "ename": "SyntaxError",
          "evalue": "invalid decimal literal (ipython-input-2073070168.py, line 5)",
          "output_type": "error",
          "traceback": [
            "\u001b[0;36m  File \u001b[0;32m\"/tmp/ipython-input-2073070168.py\"\u001b[0;36m, line \u001b[0;32m5\u001b[0m\n\u001b[0;31m    1mn=45 #error will occur\u001b[0m\n\u001b[0m    ^\u001b[0m\n\u001b[0;31mSyntaxError\u001b[0m\u001b[0;31m:\u001b[0m invalid decimal literal\n"
          ]
        }
      ],
      "source": [
        "ABC=18\n",
        "x_y=45\n",
        "print(x_y)\n",
        "print(abc) # variables are case sensitive so error will occur\n",
        "1mn=45 #error will occur\n",
        "if=23 # error will occur as varaibles cant be reservewords.\n"
      ]
    },
    {
      "cell_type": "markdown",
      "metadata": {
        "id": "TfOEIYkP9WRA"
      },
      "source": [
        "Q12 ANS..... Local variable is assigened in afunction and can be accessed only inside he function whereas global variable are assigned outside the function and can be accssed outside the function."
      ]
    },
    {
      "cell_type": "code",
      "execution_count": null,
      "metadata": {
        "colab": {
          "base_uri": "https://localhost:8080/"
        },
        "id": "i7JqNPxq9WiK",
        "outputId": "d3f41e34-71a6-4dbe-de21-6358f3ffd607"
      },
      "outputs": [
        {
          "name": "stdout",
          "output_type": "stream",
          "text": [
            "value of a =  20\n",
            "value of c =  9.8\n"
          ]
        }
      ],
      "source": [
        "a=20 #global variable\n",
        "def add():\n",
        "  c=20 #local variable\n",
        "  return a+c\n",
        "add()\n",
        "print(\"value of a = \",a) # value of a can be outside the function wheras the value of c cant be used outside the function\n"
      ]
    },
    {
      "cell_type": "markdown",
      "metadata": {
        "id": "rsWhUEN2POcx"
      },
      "source": [
        "Q13 ANS..... Dynamic typing means the type is determined automatically at runtime."
      ]
    },
    {
      "cell_type": "code",
      "execution_count": null,
      "metadata": {
        "colab": {
          "base_uri": "https://localhost:8080/"
        },
        "id": "88yBDjkAPOzI",
        "outputId": "8502e0bd-a748-4205-9346-667ed2a665db"
      },
      "outputs": [
        {
          "name": "stdout",
          "output_type": "stream",
          "text": [
            "type of x =  <class 'int'>\n"
          ]
        }
      ],
      "source": [
        "x= 45\n",
        "print(\"type of x = \",type(x))"
      ]
    },
    {
      "cell_type": "markdown",
      "metadata": {
        "id": "jWY_7BTCQ8ah"
      },
      "source": [
        "Q14 ANS.....Type casting is a method in which we can covert the datatype of the variable from one to another.When we take the input it is saved as string by default so it is converted to integer be type casting method."
      ]
    },
    {
      "cell_type": "code",
      "execution_count": null,
      "metadata": {
        "colab": {
          "base_uri": "https://localhost:8080/"
        },
        "id": "RXAVGQylQ834",
        "outputId": "b058aa59-70c2-4075-afc3-f1cedad0b037"
      },
      "outputs": [
        {
          "name": "stdout",
          "output_type": "stream",
          "text": [
            "Enter a number 78\n",
            "now the type of input =  <class 'str'>\n",
            "After typecasting type of input =  <class 'int'>\n",
            "After convertng the integer to float,type =  <class 'float'>\n"
          ]
        }
      ],
      "source": [
        "x= input(\"Enter a number \") # input is taken as a string\n",
        "print(\"now the type of input = \",type(x))\n",
        "x=int(x)\n",
        "print(\"After typecasting type of input = \",type(x))\n",
        "x=float(x)\n",
        "print(\"After convertng the integer to float,type = \",type(x))"
      ]
    },
    {
      "cell_type": "markdown",
      "metadata": {
        "id": "-dx0Fe0sSsiw"
      },
      "source": [
        "Q15 ANS........"
      ]
    },
    {
      "cell_type": "code",
      "execution_count": null,
      "metadata": {
        "colab": {
          "base_uri": "https://localhost:8080/"
        },
        "id": "VOVF2g4JSs1_",
        "outputId": "cc000943-9c8e-47e8-83f3-d2735b14b304"
      },
      "outputs": [
        {
          "name": "stdout",
          "output_type": "stream",
          "text": [
            "Enter the intial amount of money = 57\n",
            "Enter the rate of interest per annum = 75\n",
            "Enter the time = 6\n",
            "simple interest =  256.5\n"
          ]
        }
      ],
      "source": [
        "P= int(input(\"Enter the intial amount of money = \"))\n",
        "R= int(input(\"Enter the rate of interest per annum = \"))\n",
        "T= int(input(\"Enter the time = \"))\n",
        "SI=(P*R*T)/100\n",
        "print(\"simple interest = \",SI)"
      ]
    },
    {
      "cell_type": "markdown",
      "metadata": {
        "id": "XFGp4LiDTyeD"
      },
      "source": [
        "Q16 ANS......"
      ]
    },
    {
      "cell_type": "code",
      "execution_count": null,
      "metadata": {
        "colab": {
          "base_uri": "https://localhost:8080/"
        },
        "id": "sL1xS_2aTzDh",
        "outputId": "08761b7a-2d7c-492c-c7d6-4d540f13ec26"
      },
      "outputs": [
        {
          "name": "stdout",
          "output_type": "stream",
          "text": [
            "My name is nikita. I am 19 years old and my course is BTECH\n"
          ]
        }
      ],
      "source": [
        "name=\"nikita\"\n",
        "age=19\n",
        "course=\"BTECH\"\n",
        "print(f\"My name is {name}. I am {age} years old and my course is {course}\")"
      ]
    },
    {
      "cell_type": "markdown",
      "metadata": {
        "id": "upIIRXR7Uj6M"
      },
      "source": [
        "Q17 ANS....."
      ]
    },
    {
      "cell_type": "code",
      "execution_count": null,
      "metadata": {
        "colab": {
          "base_uri": "https://localhost:8080/"
        },
        "id": "UJ2ij-jyUkL3",
        "outputId": "09d34e1c-d0f8-41f3-cfb9-7d5b3803b8c9"
      },
      "outputs": [
        {
          "name": "stdout",
          "output_type": "stream",
          "text": [
            "Before swap values of a and b are:- 4 5\n",
            "After swap values of a and b are:- 5 4\n"
          ]
        }
      ],
      "source": [
        "a=4\n",
        "b=5\n",
        "print(\"Before swap values of a and b are:-\",a,b)\n",
        "temp=a\n",
        "a=b\n",
        "b=temp\n",
        "print(\"After swap values of a and b are:-\",a,b)"
      ]
    },
    {
      "cell_type": "markdown",
      "metadata": {
        "id": "X8R71YIRV8Ka"
      },
      "source": [
        "Q18 ANS.... Mutable are those obejects which can be changed while immutable objects cant be changed.\n",
        "Strings are immutable."
      ]
    },
    {
      "cell_type": "markdown",
      "metadata": {
        "id": "eWmRhRSBWZz9"
      },
      "source": [
        "Q19 ANS......"
      ]
    },
    {
      "cell_type": "code",
      "execution_count": null,
      "metadata": {
        "colab": {
          "base_uri": "https://localhost:8080/"
        },
        "id": "eaSTIOwGWi5M",
        "outputId": "6d8ed8df-3b3b-4a07-f552-7cdee4d58561"
      },
      "outputs": [
        {
          "name": "stdout",
          "output_type": "stream",
          "text": [
            "Enter the temperature in celsius = 90.6\n",
            "Temperature in fahrenheit =  195.07999999999998\n"
          ]
        }
      ],
      "source": [
        "x=float(input(\"Enter the temperature in celsius = \"))\n",
        "y=(x*(9/5))+32\n",
        "print(\"Temperature in fahrenheit = \",y)"
      ]
    },
    {
      "cell_type": "markdown",
      "metadata": {
        "id": "t18A2WHfXdg4"
      },
      "source": [
        "Q20 ANS....."
      ]
    },
    {
      "cell_type": "code",
      "execution_count": null,
      "metadata": {
        "colab": {
          "base_uri": "https://localhost:8080/"
        },
        "id": "dKiBHYNwXmEP",
        "outputId": "199f81a5-701a-4d27-8efb-e2de20f5f2a7"
      },
      "outputs": [
        {
          "name": "stdout",
          "output_type": "stream",
          "text": [
            "Enter the value of radius = 100\n",
            "Area of circle =  31400.0\n",
            "Circcumference of circle =  628.0\n"
          ]
        }
      ],
      "source": [
        "radius=float(input(\"Enter the value of radius = \"))\n",
        "pi=3.14\n",
        "area=pi*radius*radius\n",
        "circumference=2*pi*radius\n",
        "print(\"Area of circle = \",area)\n",
        "print(\"Circcumference of circle = \",circumference)"
      ]
    },
    {
      "cell_type": "markdown",
      "metadata": {
        "id": "SFAV1tNBYkog"
      },
      "source": [
        "Q21 ANS......."
      ]
    },
    {
      "cell_type": "code",
      "execution_count": null,
      "metadata": {
        "colab": {
          "background_save": true
        },
        "id": "onSqc2wBYk8z",
        "outputId": "b2dca62b-da68-4754-97d1-b723aa3136bc"
      },
      "outputs": [
        {
          "name": "stdout",
          "output_type": "stream",
          "text": [
            "the color of orangeisorange\n"
          ]
        }
      ],
      "source": [
        "color=\"orange\"\n",
        "fruit=\"orange\"\n",
        "result= \"the color of \"+ fruit+\"is\"+color\n",
        "print(result)"
      ]
    },
    {
      "cell_type": "markdown",
      "metadata": {
        "id": "VwHma59Z4INW"
      },
      "source": [
        "Q22 ANS....If undefined variable is used then error occurs."
      ]
    },
    {
      "cell_type": "code",
      "execution_count": null,
      "metadata": {
        "colab": {
          "base_uri": "https://localhost:8080/"
        },
        "id": "sCccRMhN4Iik",
        "outputId": "3943f2b1-9091-4b84-a526-346959ac64b0"
      },
      "outputs": [
        {
          "name": "stdout",
          "output_type": "stream",
          "text": [
            "34\n"
          ]
        }
      ],
      "source": [
        "print(x)"
      ]
    },
    {
      "cell_type": "markdown",
      "metadata": {
        "id": "J4oAHe7T4JBs"
      },
      "source": [
        "Q23 ANS..."
      ]
    },
    {
      "cell_type": "code",
      "execution_count": null,
      "metadata": {
        "colab": {
          "base_uri": "https://localhost:8080/"
        },
        "id": "FOMe27YO4JUn",
        "outputId": "5d8fe0fd-34de-4813-9a6b-101f48435219"
      },
      "outputs": [
        {
          "name": "stdout",
          "output_type": "stream",
          "text": [
            "Enter the length if 1st side = 34\n",
            "Enter the length if 2nd side = 45\n",
            "Enter the length if 3rd side = 67\n",
            "Perimeter of triangle =  146\n"
          ]
        }
      ],
      "source": [
        "x=int(input(\"Enter the length if 1st side = \"))\n",
        "y=int(input(\"Enter the length if 2nd side = \"))\n",
        "z=int(input(\"Enter the length if 3rd side = \"))\n",
        "perimeter=x+y+z\n",
        "print(\"Perimeter of triangle = \",perimeter)"
      ]
    },
    {
      "cell_type": "markdown",
      "metadata": {
        "id": "PpAZrSlR4Jw-"
      },
      "source": [
        "Q24 ANS.........."
      ]
    },
    {
      "cell_type": "code",
      "execution_count": null,
      "metadata": {
        "colab": {
          "base_uri": "https://localhost:8080/"
        },
        "id": "cO8nSCYc4KHI",
        "outputId": "b0779382-61a1-4142-d324-2bb24dab57e2"
      },
      "outputs": [
        {
          "name": "stdout",
          "output_type": "stream",
          "text": [
            "Enter the marks of 1st subject = 45\n",
            "Enter the marks of 2nd subject = 23\n",
            "Enter the marks of 3rd subject = 45\n",
            "Enter the marks of 4th subject = 78\n",
            "Enter the marks of 5th subject = 34\n",
            "Total marks =  225.0\n",
            "Percentage =  45.0\n"
          ]
        }
      ],
      "source": [
        "a=float(input(\"Enter the marks of 1st subject = \"))\n",
        "b=float(input(\"Enter the marks of 2nd subject = \"))\n",
        "c=float(input(\"Enter the marks of 3rd subject = \"))\n",
        "d=float(input(\"Enter the marks of 4th subject = \"))\n",
        "e=float(input(\"Enter the marks of 5th6 subject = \"))\n",
        "total=a+b+c+d+e\n",
        "percentage=(total/500)*100\n",
        "print(\"Total marks = \",total)\n",
        "print(\"Percentage = \",percentage)"
      ]
    },
    {
      "cell_type": "markdown",
      "metadata": {
        "id": "mm6aj0Gq9jDC"
      },
      "source": [
        "Q25 ANS..... is operator is used to find either the address or id of two variables is same or not while\"==\" is used to find whether the two variables are ame or not."
      ]
    },
    {
      "cell_type": "code",
      "execution_count": null,
      "metadata": {
        "colab": {
          "base_uri": "https://localhost:8080/"
        },
        "id": "sGX-UbDQ9jap",
        "outputId": "72b651e1-d5a5-4c01-b2d9-36f8bb3ae774"
      },
      "outputs": [
        {
          "name": "stdout",
          "output_type": "stream",
          "text": [
            "x is y =  True\n",
            "x == y =  True\n",
            "x is z =  False\n",
            "x == z =  False\n"
          ]
        }
      ],
      "source": [
        "x=20\n",
        "y=20\n",
        "z=51\n",
        "print(\"x is y = \",x is y)\n",
        "print(\"x == y = \",x==y)\n",
        "print(\"x is z = \",x is z)\n",
        "print(\"x == z = \",x==z)"
      ]
    },
    {
      "cell_type": "markdown",
      "metadata": {
        "id": "c6fooYRe9jxD"
      },
      "source": [
        "26 ANS......String is a combination of characters. String is defined within ' ',\" \",''' ''' quotes."
      ]
    },
    {
      "cell_type": "code",
      "execution_count": null,
      "metadata": {
        "colab": {
          "base_uri": "https://localhost:8080/"
        },
        "id": "0dRF4g_d9kBv",
        "outputId": "6e7c280e-81c5-4143-e249-950f98d325d4"
      },
      "outputs": [
        {
          "name": "stdout",
          "output_type": "stream",
          "text": [
            "Name of fruits =  orange apple mango\n"
          ]
        }
      ],
      "source": [
        "a='orange'\n",
        "b=\"apple\"\n",
        "c='''mango'''\n",
        "print(\"Name of fruits = \",a,b,c)"
      ]
    },
    {
      "cell_type": "markdown",
      "metadata": {
        "id": "xg32yLr3_Qv0"
      },
      "source": [
        "Q27 ANS...."
      ]
    },
    {
      "cell_type": "code",
      "execution_count": null,
      "metadata": {
        "colab": {
          "base_uri": "https://localhost:8080/"
        },
        "id": "IbKdjJnW_Q_F",
        "outputId": "a5ec0887-9f6c-4b0f-c337-7eed6aa330a0"
      },
      "outputs": [
        {
          "name": "stdout",
          "output_type": "stream",
          "text": [
            "Enter your name = nikita\n",
            "Name in uppercase =  NIKITA\n",
            "Name in lowercase =  nikita\n",
            "Name in titlecase =  Nikita\n"
          ]
        }
      ],
      "source": [
        "name=input(\"Enter your name = \")\n",
        "print(\"Name in uppercase = \",name.upper())\n",
        "print(\"Name in lowercase = \",name.lower())\n",
        "print(\"Name in titlecase = \",name.title())"
      ]
    },
    {
      "cell_type": "markdown",
      "metadata": {
        "id": "opKif1dw_RO-"
      },
      "source": [
        "Q28 ANS......."
      ]
    },
    {
      "cell_type": "code",
      "execution_count": null,
      "metadata": {
        "colab": {
          "base_uri": "https://localhost:8080/"
        },
        "id": "wy0kq9ec_Rf6",
        "outputId": "06a644ed-9a7e-4c2f-d3d0-773c377b7e9e"
      },
      "outputs": [
        {
          "name": "stdout",
          "output_type": "stream",
          "text": [
            "Enter a stringdfyhgtfdesd\n",
            "Length of string =  11\n"
          ]
        }
      ],
      "source": [
        "x=input(\"Enter a string\")\n",
        "print(\"Length of string = \",len(x))"
      ]
    },
    {
      "cell_type": "markdown",
      "metadata": {
        "id": "jvFlxzb2AR6p"
      },
      "source": [
        "Q29 ANS......"
      ]
    },
    {
      "cell_type": "code",
      "execution_count": null,
      "metadata": {
        "colab": {
          "base_uri": "https://localhost:8080/"
        },
        "id": "W1w5ImnLASLv",
        "outputId": "a159308e-43d8-46a7-e5ce-0bcb17a6d284"
      },
      "outputs": [
        {
          "name": "stdout",
          "output_type": "stream",
          "text": [
            "Enter your name = nikita\n",
            "hiiiiii nikita\n"
          ]
        }
      ],
      "source": [
        "greet=\"hiiiiii\"\n",
        "name=input(\"Enter your name = \")\n",
        "print(greet + \" \"+ name)"
      ]
    },
    {
      "cell_type": "markdown",
      "metadata": {
        "id": "uWzIhC47AScJ"
      },
      "source": [
        "Q30 ANS...."
      ]
    },
    {
      "cell_type": "code",
      "execution_count": null,
      "metadata": {
        "colab": {
          "base_uri": "https://localhost:8080/"
        },
        "id": "3ONzmha7ASsH",
        "outputId": "5adebd3f-804e-4202-85cb-98ffd8b692d3"
      },
      "outputs": [
        {
          "name": "stdout",
          "output_type": "stream",
          "text": [
            "After extracting the first 5 characters of  Unisole Empower  =  Uniso\n"
          ]
        }
      ],
      "source": [
        "string=\"Unisole Empower\"\n",
        "print(\"After extracting the first 5 characters of \",string,\" = \",string[:5])"
      ]
    },
    {
      "cell_type": "markdown",
      "metadata": {
        "id": "vbDaKvtQBRtE"
      },
      "source": [
        "Q31 ANS......"
      ]
    },
    {
      "cell_type": "code",
      "execution_count": null,
      "metadata": {
        "colab": {
          "base_uri": "https://localhost:8080/"
        },
        "id": "V7KjAq8ABSAB",
        "outputId": "a38dff6a-b8b3-4f69-c340-de61d8a8a9f5"
      },
      "outputs": [
        {
          "name": "stdout",
          "output_type": "stream",
          "text": [
            "After extracting the last characters of  DataScience  =  ence\n"
          ]
        }
      ],
      "source": [
        "string=\"DataScience\"\n",
        "print(\"After extracting the last characters of \",string,\" = \",string[-4:])"
      ]
    },
    {
      "cell_type": "markdown",
      "metadata": {
        "id": "SJ_gW_YtBSR_"
      },
      "source": [
        "Q32 ANS......"
      ]
    },
    {
      "cell_type": "code",
      "execution_count": null,
      "metadata": {
        "colab": {
          "base_uri": "https://localhost:8080/"
        },
        "id": "u1CZCSilBSip",
        "outputId": "57f58a8b-2a93-4771-c2a3-633202d53143"
      },
      "outputs": [
        {
          "name": "stdout",
          "output_type": "stream",
          "text": [
            "Enter a string = yellow\n",
            "reverse of string =  wolley\n"
          ]
        }
      ],
      "source": [
        "x=input(\"Enter a string = \")\n",
        "print(\"reverse of string = \",x[::-1])"
      ]
    },
    {
      "cell_type": "markdown",
      "metadata": {
        "id": "4IMHd44gBSzf"
      },
      "source": [
        "Q33 ANS...."
      ]
    },
    {
      "cell_type": "code",
      "execution_count": null,
      "metadata": {
        "colab": {
          "base_uri": "https://localhost:8080/"
        },
        "id": "iVXn2aiABTDf",
        "outputId": "9903d10d-657a-4131-f02d-23cc3809996a"
      },
      "outputs": [
        {
          "name": "stdout",
          "output_type": "stream",
          "text": [
            "Empower exist in Unisole Empower\n"
          ]
        }
      ],
      "source": [
        "x=\"Unisole Empower\"\n",
        "y=\"Empower\"\n",
        "if(y in x):\n",
        "  print(\"Empower exist in Unisole Empower\")\n",
        "else:\n",
        "  print(\"Empower doesnot exist in Unisole Empower.\")"
      ]
    },
    {
      "cell_type": "markdown",
      "metadata": {
        "id": "XlkqCBx3IVEi"
      },
      "source": [
        "Q34 ANS......."
      ]
    },
    {
      "cell_type": "code",
      "execution_count": null,
      "metadata": {
        "colab": {
          "base_uri": "https://localhost:8080/"
        },
        "id": "27t-ASswIVgQ",
        "outputId": "d99cb0c9-3cea-49d3-93ec-8d9eb1c454ea"
      },
      "outputs": [
        {
          "name": "stdout",
          "output_type": "stream",
          "text": [
            "After replacing =  I am learning Data Science.\n"
          ]
        }
      ],
      "source": [
        "x=\"I am learning python.\"\n",
        "y= x.replace(\"python\",\"Data Science\")\n",
        "print(\"After replacing = \",y)\n"
      ]
    },
    {
      "cell_type": "markdown",
      "metadata": {
        "id": "E94YQcR5JGh9"
      },
      "source": [
        "Q35 ANS....."
      ]
    },
    {
      "cell_type": "code",
      "execution_count": null,
      "metadata": {
        "colab": {
          "base_uri": "https://localhost:8080/"
        },
        "id": "nY0jjAxYJG1N",
        "outputId": "33a62b90-784c-4c3d-9d5d-4c0749f40cca"
      },
      "outputs": [
        {
          "name": "stdout",
          "output_type": "stream",
          "text": [
            "HelloWorld\n"
          ]
        }
      ],
      "source": [
        "string=\"Hello World\"\n",
        "x=string.replace(\" \",\"\")\n",
        "print(x)"
      ]
    },
    {
      "cell_type": "markdown",
      "metadata": {
        "id": "7U2XFOdNJHOt"
      },
      "source": [
        "Q36 ANS...."
      ]
    },
    {
      "cell_type": "code",
      "execution_count": null,
      "metadata": {
        "colab": {
          "base_uri": "https://localhost:8080/"
        },
        "id": "yH4R_6qgJHgs",
        "outputId": "b5fbe608-f8c4-4f39-f5c3-f22499686b2a"
      },
      "outputs": [
        {
          "name": "stdout",
          "output_type": "stream",
          "text": [
            "List =  ['apple,bnana,mango']\n"
          ]
        }
      ],
      "source": [
        "string=\"apple,bnana,mango\"\n",
        "l1=string.split()\n",
        "print(\"List = \",l1)"
      ]
    },
    {
      "cell_type": "markdown",
      "metadata": {
        "id": "fbM7dmkZJH0e"
      },
      "source": [
        "Q37 ANS..."
      ]
    },
    {
      "cell_type": "code",
      "execution_count": null,
      "metadata": {
        "colab": {
          "base_uri": "https://localhost:8080/"
        },
        "id": "HmVc9be9JIHe",
        "outputId": "67ef7193-1d3d-454a-fb1e-b939de47e03b"
      },
      "outputs": [
        {
          "name": "stdout",
          "output_type": "stream",
          "text": [
            "AI-ML-DL\n"
          ]
        }
      ],
      "source": [
        "L1=[\"AI\",\"ML\",\"DL\"]\n",
        "y=\"-\".join(L1)\n",
        "print(y)"
      ]
    },
    {
      "cell_type": "markdown",
      "metadata": {
        "id": "lUoEeJKdNrL1"
      },
      "source": [
        "Q38 ANS....."
      ]
    },
    {
      "cell_type": "code",
      "execution_count": null,
      "metadata": {
        "colab": {
          "base_uri": "https://localhost:8080/"
        },
        "id": "XcPKHI8MOCWW",
        "outputId": "3284778f-4399-49b7-84c1-6f37ef553386"
      },
      "outputs": [
        {
          "name": "stdout",
          "output_type": "stream",
          "text": [
            "Enter a string = sadfdytgbmjkyutf\n",
            "Number of vowels =  2\n"
          ]
        }
      ],
      "source": [
        "x=input(\"Enter a string = \")\n",
        "y=\"aeiouAEIOU\"\n",
        "count=0\n",
        "for char in x:\n",
        "  if char in y:\n",
        "    count+=1\n",
        "print(\"Number of vowels = \",count)"
      ]
    },
    {
      "cell_type": "markdown",
      "metadata": {
        "id": "FHZmJaQnNryu"
      },
      "source": [
        "Q39 ANS......."
      ]
    },
    {
      "cell_type": "code",
      "execution_count": null,
      "metadata": {
        "colab": {
          "base_uri": "https://localhost:8080/"
        },
        "id": "OuICjrQzNrfo",
        "outputId": "ebbe9e2e-9c2d-4224-d7db-a5632bb94568"
      },
      "outputs": [
        {
          "name": "stdout",
          "output_type": "stream",
          "text": [
            "Enter a string : how\n",
            "It is not a pallindrine\n"
          ]
        }
      ],
      "source": [
        "x=input(\"Enter a string : \")\n",
        "y=x[::-1]\n",
        "if(x==y):\n",
        "  print(\"It is a pallindrone\")\n",
        "else:\n",
        "  print(\"It is not a pallindrine\")"
      ]
    },
    {
      "cell_type": "markdown",
      "metadata": {
        "id": "CQB9dNGmRHY7"
      },
      "source": [
        "Q40 ANS....."
      ]
    },
    {
      "cell_type": "code",
      "execution_count": null,
      "metadata": {
        "colab": {
          "base_uri": "https://localhost:8080/"
        },
        "id": "rwN2vkxINsD2",
        "outputId": "19b4607f-5838-4d43-8662-2e0984e17a60"
      },
      "outputs": [
        {
          "name": "stdout",
          "output_type": "stream",
          "text": [
            "Enter a string : how\n",
            "h\n",
            "o\n",
            "w\n"
          ]
        }
      ],
      "source": [
        "x=input(\"Enter a string : \")\n",
        "for char in x:\n",
        "  print(char)"
      ]
    },
    {
      "cell_type": "markdown",
      "metadata": {
        "id": "UHvmDTe6Runx"
      },
      "source": [
        "Q41 ANS......"
      ]
    },
    {
      "cell_type": "code",
      "execution_count": null,
      "metadata": {
        "colab": {
          "base_uri": "https://localhost:8080/"
        },
        "id": "n6phxAf_Ru3W",
        "outputId": "66618994-377d-43a2-a41a-c59a1d95b0a3"
      },
      "outputs": [
        {
          "name": "stdout",
          "output_type": "stream",
          "text": [
            "Type of  12345  =  <class 'str'>\n",
            "After converting into integer type =  <class 'int'>\n",
            "z =  234\n",
            "Sum of x and z =  12579\n"
          ]
        }
      ],
      "source": [
        "x=\"12345\"\n",
        "y=int(x)\n",
        "z=234\n",
        "print(\"Type of \",x,\" = \",type(x))\n",
        "print(\"After converting into integer type = \",type(y))\n",
        "print(\"z = \",z)\n",
        "print(\"Sum of x and z = \",y+z)\n"
      ]
    },
    {
      "cell_type": "markdown",
      "metadata": {
        "id": "XVwleDwrSlEx"
      },
      "source": [
        "Q42 ANS....."
      ]
    },
    {
      "cell_type": "code",
      "execution_count": null,
      "metadata": {
        "colab": {
          "base_uri": "https://localhost:8080/"
        },
        "id": "8nCL0XqHSlZC",
        "outputId": "321243b3-771b-485e-d725-99495c90c197"
      },
      "outputs": [
        {
          "name": "stdout",
          "output_type": "stream",
          "text": [
            "Index of E =  0\n"
          ]
        }
      ],
      "source": [
        "string=\"Empower\"\n",
        "index=string.index(\"E\")\n",
        "print(\"Index of E = \",index)"
      ]
    },
    {
      "cell_type": "markdown",
      "metadata": {
        "id": "m92aac9YTJWh"
      },
      "source": [
        "Q43 ANS...."
      ]
    },
    {
      "cell_type": "code",
      "execution_count": null,
      "metadata": {
        "colab": {
          "base_uri": "https://localhost:8080/"
        },
        "id": "uWx12GFTTJrJ",
        "outputId": "1b4b17ea-7bc6-4dfe-e325-d169cfcb1391"
      },
      "outputs": [
        {
          "name": "stdout",
          "output_type": "stream",
          "text": [
            "After slicing =  taSc\n"
          ]
        }
      ],
      "source": [
        "string=\"DataScience\"\n",
        "print(\"After slicing = \",string[2:6])"
      ]
    },
    {
      "cell_type": "markdown",
      "metadata": {
        "id": "oFXAtCobTn8h"
      },
      "source": [
        "Q44 ANS......Single quotes are used when there is a small string. Double quotes are used when string contain single quote.Triple quote is used when string contains both double and single quote."
      ]
    },
    {
      "cell_type": "code",
      "execution_count": null,
      "metadata": {
        "colab": {
          "base_uri": "https://localhost:8080/"
        },
        "id": "Z6lTNk80ToS5",
        "outputId": "d7e60105-1f42-463f-db25-e4ae57cbd50b"
      },
      "outputs": [
        {
          "name": "stdout",
          "output_type": "stream",
          "text": [
            "hi\n",
            " I don't like mango.\n",
            " He said,\"I like mango\".\n"
          ]
        }
      ],
      "source": [
        "x='hi'\n",
        "y=\" I don't like mango.\"\n",
        "z=''' He said,\"I like mango\".'''\n",
        "print(x)\n",
        "print(y)\n",
        "print(z)"
      ]
    },
    {
      "cell_type": "markdown",
      "metadata": {
        "id": "DMVTCeDYVWYd"
      },
      "source": [
        "Q45 ANS...."
      ]
    },
    {
      "cell_type": "code",
      "execution_count": null,
      "metadata": {
        "colab": {
          "base_uri": "https://localhost:8080/"
        },
        "id": "CUgnA5noVWwM",
        "outputId": "b36fd65a-1b1b-40c2-b936-eb8eb8a29ca6"
      },
      "outputs": [
        {
          "name": "stdout",
          "output_type": "stream",
          "text": [
            "My name is ABC and I am 45 years old\n"
          ]
        }
      ],
      "source": [
        "name=\"ABC\"\n",
        "age=45\n",
        "print(\"My name is {} and I am {} years old\".format(name,age))"
      ]
    },
    {
      "cell_type": "markdown",
      "metadata": {
        "id": "3OI_qDrOWW_t"
      },
      "source": [
        "Q46 ANS......"
      ]
    },
    {
      "cell_type": "code",
      "execution_count": null,
      "metadata": {
        "colab": {
          "base_uri": "https://localhost:8080/"
        },
        "id": "3GFpY38bWXSb",
        "outputId": "bea5b123-cb90-447d-c980-d56f055eebc3"
      },
      "outputs": [
        {
          "name": "stdout",
          "output_type": "stream",
          "text": [
            "Number of a in  banana =  3\n"
          ]
        }
      ],
      "source": [
        "x=\"banana\"\n",
        "y=\"a\"\n",
        "count=0\n",
        "for char in x:\n",
        "  if y in char:\n",
        "    count+=1\n",
        "print(\"Number of a in \",x,\"= \",count)"
      ]
    },
    {
      "cell_type": "markdown",
      "metadata": {
        "id": "wFm6XnlWYFQ4"
      },
      "source": [
        "Q47 ANS......."
      ]
    },
    {
      "cell_type": "code",
      "execution_count": null,
      "metadata": {
        "colab": {
          "base_uri": "https://localhost:8080/"
        },
        "id": "6lqlnfowYFiX",
        "outputId": "4b438f62-8514-40a5-c1b9-a41235e01ab0"
      },
      "outputs": [
        {
          "name": "stdout",
          "output_type": "stream",
          "text": [
            "Enter a string : Unisole empower\n",
            "The string starts with Uni and ends with wer\n"
          ]
        }
      ],
      "source": [
        "x=input(\"Enter a string : \")\n",
        "y=x[:3]\n",
        "z=x[-3:]\n",
        "a=\"Uni\"\n",
        "b=\"wer\"\n",
        "if(y==a and z==b):\n",
        "  print(\"The string starts with Uni and ends with wer\")\n",
        "else:\n",
        "  print(\"The string does not starts with Uni and ends with wer\")"
      ]
    },
    {
      "cell_type": "markdown",
      "metadata": {
        "id": "Gv4dUnPnagk2"
      },
      "source": [
        "Q48 ANS............String immutability means we cannot change the value of string  once it is not created"
      ]
    },
    {
      "cell_type": "code",
      "execution_count": null,
      "metadata": {
        "colab": {
          "base_uri": "https://localhost:8080/"
        },
        "id": "Y1OV-qT2ag2j",
        "outputId": "39004063-fcfe-415a-f9a1-406c89c5013c"
      },
      "outputs": [
        {
          "name": "stdout",
          "output_type": "stream",
          "text": [
            "Address of hello =  135394798290816\n",
            "Address of hell =  135393859653904\n"
          ]
        }
      ],
      "source": [
        "a=\"hello\"\n",
        "b=\"hell\"\n",
        "print(\"Address of hello = \",id(a))\n",
        "print(\"Address of hell = \",id(b))"
      ]
    },
    {
      "cell_type": "markdown",
      "metadata": {
        "id": "f60by27lbxQZ"
      },
      "source": [
        "Q49 ANS....."
      ]
    },
    {
      "cell_type": "code",
      "execution_count": null,
      "metadata": {
        "colab": {
          "base_uri": "https://localhost:8080/"
        },
        "id": "HgQa2HKYbxjM",
        "outputId": "cbbbf056-b39e-4309-a1af-936ffde8b4b7"
      },
      "outputs": [
        {
          "name": "stdout",
          "output_type": "stream",
          "text": [
            "UnisoleEmpower\n"
          ]
        }
      ],
      "source": [
        "string=\"Unisole123Empower456\"\n",
        "integer=\"123456\"\n",
        "result=\"\"\n",
        "for char in string:\n",
        "  if char not in integer:\n",
        "    result=result+char\n",
        "\n",
        "print(result)\n",
        "\n"
      ]
    },
    {
      "cell_type": "markdown",
      "metadata": {
        "id": "2O8MIm87w7YT"
      },
      "source": [
        "Q50 ANS...."
      ]
    },
    {
      "cell_type": "code",
      "execution_count": null,
      "metadata": {
        "colab": {
          "base_uri": "https://localhost:8080/"
        },
        "id": "Iweo4tvfw7tx",
        "outputId": "4d991b19-faea-4f1c-f69e-e84c31c22d90"
      },
      "outputs": [
        {
          "name": "stdout",
          "output_type": "stream",
          "text": [
            "Enter a string : weertg\n",
            "string contain only alphabets\n"
          ]
        }
      ],
      "source": [
        "x=input(\"Enter a string : \")\n",
        "z=\"1234567890\"\n",
        "for i in x:\n",
        "  if i in z:\n",
        "    print(\"string contain numbers\")\n",
        "    break\n",
        "  else:\n",
        "    print(\"string contain only alphabets\")\n",
        "    break\n"
      ]
    },
    {
      "cell_type": "markdown",
      "metadata": {
        "id": "qTk1Bc6m0H-8"
      },
      "source": [
        "Q51 ANS..........."
      ]
    },
    {
      "cell_type": "code",
      "execution_count": null,
      "metadata": {
        "colab": {
          "base_uri": "https://localhost:8080/"
        },
        "id": "N7YnDUe10IVa",
        "outputId": "8d5d6290-a4fd-432e-fb87-f45a3efbdb61"
      },
      "outputs": [
        {
          "name": "stdout",
          "output_type": "stream",
          "text": [
            "Enter a string : 1234rf\n",
            "string contain numbers\n"
          ]
        }
      ],
      "source": [
        "x=input(\"Enter a string : \")\n",
        "z=\"1234567890\"\n",
        "for i in x:\n",
        "  if i in z:\n",
        "    print(\"string contain numbers\")\n",
        "    break\n",
        "  else:\n",
        "    print(\"string contain only alphabets\")\n",
        "    break"
      ]
    },
    {
      "cell_type": "markdown",
      "metadata": {
        "id": "F-jrlchNwt0i"
      },
      "source": [
        "Q52 ANS............"
      ]
    },
    {
      "cell_type": "code",
      "execution_count": null,
      "metadata": {
        "colab": {
          "base_uri": "https://localhost:8080/"
        },
        "id": "8HCq97k-wuIm",
        "outputId": "51ccf379-7943-44a1-cf72-8a031abd6e66"
      },
      "outputs": [
        {
          "name": "stdout",
          "output_type": "stream",
          "text": [
            "This is a multiline string.\n",
            "this is a multiline string.\n",
            "this is a multiline string.\n"
          ]
        }
      ],
      "source": [
        "multiline_string='''This is a multiline string.\n",
        "this is a multiline string.\n",
        "this is a multiline string.'''\n",
        "print(multiline_string)"
      ]
    },
    {
      "cell_type": "markdown",
      "metadata": {
        "id": "NS1pxFXpx8S6"
      },
      "source": [
        "Q53 ANS.........."
      ]
    },
    {
      "cell_type": "code",
      "execution_count": null,
      "metadata": {
        "colab": {
          "base_uri": "https://localhost:8080/"
        },
        "id": "aYMopgWYx8wm",
        "outputId": "2ddc3c16-63d2-43d6-decd-5ddfd236f21e"
      },
      "outputs": [
        {
          "name": "stdout",
          "output_type": "stream",
          "text": [
            "Enter a string : nikita\n",
            "Reverse string =  atikin\n"
          ]
        }
      ],
      "source": [
        "string=input(\"Enter a string : \")\n",
        "reverse_string=string[::-1]\n",
        "print(\"Reverse string = \",reverse_string)"
      ]
    },
    {
      "cell_type": "markdown",
      "metadata": {
        "id": "mcVcURmjytE1"
      },
      "source": [
        "Q54 ANS......The purpose of the raw string is to read backlash as a string."
      ]
    },
    {
      "cell_type": "code",
      "execution_count": null,
      "metadata": {
        "colab": {
          "base_uri": "https://localhost:8080/"
        },
        "id": "cQuUT3Aaytl5",
        "outputId": "cbc44224-7237-4e7f-e88c-8ed5c163504c"
      },
      "outputs": [
        {
          "name": "stdout",
          "output_type": "stream",
          "text": [
            "hello\n",
            "world\n",
            "hello\\nworld\n"
          ]
        }
      ],
      "source": [
        "string=\"hello\\nworld\" #world is printed in new line\n",
        "print(string)\n",
        "raw_string=r\"hello\\nworld\" #\\n is treated as character\n",
        "print(raw_string)\n"
      ]
    },
    {
      "cell_type": "markdown",
      "metadata": {
        "id": "HeFIIoue0hCu"
      },
      "source": [
        "Q55 ANS......"
      ]
    },
    {
      "cell_type": "code",
      "execution_count": null,
      "metadata": {
        "colab": {
          "base_uri": "https://localhost:8080/"
        },
        "id": "doaGM33y0ha3",
        "outputId": "d1f2047d-c662-415c-ef71-5d49f3a9ae8d"
      },
      "outputs": [
        {
          "name": "stdout",
          "output_type": "stream",
          "text": [
            "Enter a string : nikita\n",
            "String after capatilizing 1st leteer =  Nikita\n"
          ]
        }
      ],
      "source": [
        "string=input(\"Enter a string : \")\n",
        "print(\"String after capatilizing 1st leteer = \",string.title())"
      ]
    },
    {
      "cell_type": "markdown",
      "metadata": {
        "id": "vM41hLb-1Hjh"
      },
      "source": [
        "Q56 ANS........."
      ]
    },
    {
      "cell_type": "code",
      "execution_count": null,
      "metadata": {
        "colab": {
          "base_uri": "https://localhost:8080/"
        },
        "id": "aNiL-J3m1H1O",
        "outputId": "d5fc9c2b-62bb-40f7-fe52-820aa05cfdac"
      },
      "outputs": [
        {
          "output_type": "stream",
          "name": "stdout",
          "text": [
            "Enter a string = adwqe@gmail.com\n",
            "Valid email address.\n"
          ]
        }
      ],
      "source": [
        "import re\n",
        "x=input(\"Enter a string = \")\n",
        "valid = re.match(r'^[a-zA-Z0-9._%+-]+@[a-zA-Z0-9.-]+\\.[a-zA-Z]{2,}$', x)\n",
        "\n",
        "print(\"Valid email address.\" if valid else \"Invalid email address.\")"
      ]
    },
    {
      "cell_type": "markdown",
      "source": [
        "Q57 ANS............"
      ],
      "metadata": {
        "id": "RIpDX7EUKN24"
      }
    },
    {
      "cell_type": "code",
      "source": [
        "url=\"https://www.google.com\"\n",
        "result=url.split(\":\")[0]\n",
        "print(\"Result = \",result)"
      ],
      "metadata": {
        "colab": {
          "base_uri": "https://localhost:8080/"
        },
        "id": "Ln50W1twKOaE",
        "outputId": "66abe598-ceb4-4b46-c862-6665d84a8769"
      },
      "execution_count": null,
      "outputs": [
        {
          "output_type": "stream",
          "name": "stdout",
          "text": [
            "Result =  https\n"
          ]
        }
      ]
    },
    {
      "cell_type": "markdown",
      "source": [
        "Q58 ANS..........."
      ],
      "metadata": {
        "id": "Mw_BJqPhKfn_"
      }
    },
    {
      "cell_type": "code",
      "source": [
        "string=\"hello  world\"\n",
        "frequency={}\n",
        "for char in string:\n",
        "  if char in frequency:\n",
        "    frequency[char]+=1\n",
        "  else:\n",
        "    frequency[char]=1\n",
        "print(\"frequency of each character = \",frequency)\n"
      ],
      "metadata": {
        "colab": {
          "base_uri": "https://localhost:8080/"
        },
        "id": "5vXupDafKfzD",
        "outputId": "143ef170-7280-4ce2-ee35-d4b941f65d09"
      },
      "execution_count": null,
      "outputs": [
        {
          "output_type": "stream",
          "name": "stdout",
          "text": [
            "frequency of each character =  {'h': 1, 'e': 1, 'l': 3, 'o': 2, ' ': 2, 'w': 1, 'r': 1, 'd': 1}\n"
          ]
        }
      ]
    },
    {
      "cell_type": "markdown",
      "source": [
        "Q59 ANS.........."
      ],
      "metadata": {
        "id": "VDd5YUNOL1z4"
      }
    },
    {
      "cell_type": "code",
      "source": [
        "str1=input(\"Enter a string : \")\n",
        "str2=input(\"Enter 2nd string : \")\n",
        "if sorted(str1)==sorted(str2):\n",
        "  print(\"Strings are anagrams\")\n",
        "else:\n",
        "  print(\"Strigs are not anagrams\")"
      ],
      "metadata": {
        "colab": {
          "base_uri": "https://localhost:8080/"
        },
        "id": "9YBInRpkL2LQ",
        "outputId": "78da968e-48f7-466f-cc38-37d5691c024a"
      },
      "execution_count": null,
      "outputs": [
        {
          "output_type": "stream",
          "name": "stdout",
          "text": [
            "Enter a string : listen\n",
            "Enter 2nd string : silent\n",
            "Strings are anagrams\n"
          ]
        }
      ]
    },
    {
      "cell_type": "markdown",
      "source": [
        "Q60 ANS.........."
      ],
      "metadata": {
        "id": "XtqpXJM0WeXs"
      }
    },
    {
      "cell_type": "code",
      "source": [
        "text=\"namaste\"\n",
        "shift=3\n",
        "result=\"\"\n",
        "for char in text:\n",
        "  result=result+chr(ord(char)+shift)\n",
        "print(\"encoded text = \",result)"
      ],
      "metadata": {
        "colab": {
          "base_uri": "https://localhost:8080/"
        },
        "id": "8a2SxGQUWexA",
        "outputId": "03a74867-eb13-4092-bc59-f547dafd925e"
      },
      "execution_count": null,
      "outputs": [
        {
          "output_type": "stream",
          "name": "stdout",
          "text": [
            "encoded text =  qdpdvwh\n"
          ]
        }
      ]
    },
    {
      "cell_type": "markdown",
      "source": [
        "Q61 ANS............"
      ],
      "metadata": {
        "id": "Msn9ZIcqXvmB"
      }
    },
    {
      "cell_type": "code",
      "source": [
        "text=\"qdpdvwh\"\n",
        "shift=3\n",
        "result=\"\"\n",
        "for char in text:\n",
        "  result=result+chr(ord(char)-shift)\n",
        "print(\"decoded text = \",result)"
      ],
      "metadata": {
        "colab": {
          "base_uri": "https://localhost:8080/"
        },
        "id": "rIWLPdqEXwCJ",
        "outputId": "da660b48-9c25-4549-accd-8230d69ad126"
      },
      "execution_count": null,
      "outputs": [
        {
          "output_type": "stream",
          "name": "stdout",
          "text": [
            "decoded text =  namaste\n"
          ]
        }
      ]
    },
    {
      "cell_type": "markdown",
      "metadata": {
        "id": "0O4FbnFJqkxp"
      },
      "source": [
        "Q62 ANS......."
      ]
    },
    {
      "cell_type": "code",
      "execution_count": null,
      "metadata": {
        "colab": {
          "base_uri": "https://localhost:8080/"
        },
        "id": "kP7htvxDqlXv",
        "outputId": "eb17169a-bd96-45e2-92eb-e90dab5bdffb"
      },
      "outputs": [
        {
          "output_type": "stream",
          "name": "stdout",
          "text": [
            "Enter string : hello, nice to meet you to\n",
            "unique words in string are :  ['hello,', 'nice', 'meet', 'you']\n"
          ]
        }
      ],
      "source": [
        "x=input(\"Enter string : \")\n",
        "y=x.split()\n",
        "unique_words=[]\n",
        "for z in y:\n",
        "  if y.count(z)==1:\n",
        "    unique_words.append(z)\n",
        "print(\"unique words in string are : \",unique_words )\n",
        "\n",
        "\n",
        "\n"
      ]
    },
    {
      "cell_type": "markdown",
      "source": [
        "Q63 ANS........."
      ],
      "metadata": {
        "id": "CTo1zgRpSEuE"
      }
    },
    {
      "cell_type": "code",
      "source": [
        "text=\"nice to and meet you\"\n",
        "a=2\n",
        "print(\"After remving and  from the string : \")\n",
        "word=text.split()\n",
        "del word[2]\n",
        "text=\" \".join(word)\n",
        "print(text)"
      ],
      "metadata": {
        "id": "6K5dw5NbSFuf",
        "colab": {
          "base_uri": "https://localhost:8080/"
        },
        "outputId": "cf135561-18a7-4c7e-b2eb-37f9b957a26b"
      },
      "execution_count": null,
      "outputs": [
        {
          "output_type": "stream",
          "name": "stdout",
          "text": [
            "After remving and  from the string : \n",
            "nice to meet you\n"
          ]
        }
      ]
    },
    {
      "cell_type": "markdown",
      "source": [
        "Q64 ANS.........."
      ],
      "metadata": {
        "id": "52m98Kt-U7kL"
      }
    },
    {
      "cell_type": "code",
      "source": [
        "text=\"nice  meet you\"\n",
        "a=1\n",
        "word=\"to\"\n",
        "words=text.split()\n",
        "words.insert(a,word)\n",
        "text=\" \".join(words)\n",
        "print(\"After adding  the string : \")\n",
        "print(text)"
      ],
      "metadata": {
        "colab": {
          "base_uri": "https://localhost:8080/"
        },
        "id": "6gDrZwI1U76f",
        "outputId": "5c6ebcf9-f376-40f4-a5d7-299ab51342bc"
      },
      "execution_count": null,
      "outputs": [
        {
          "output_type": "stream",
          "name": "stdout",
          "text": [
            "After adding  the string : \n",
            "nice to meet you\n"
          ]
        }
      ]
    }
  ],
  "metadata": {
    "colab": {
      "provenance": []
    },
    "kernelspec": {
      "display_name": "Python 3",
      "name": "python3"
    },
    "language_info": {
      "name": "python"
    }
  },
  "nbformat": 4,
  "nbformat_minor": 0
}